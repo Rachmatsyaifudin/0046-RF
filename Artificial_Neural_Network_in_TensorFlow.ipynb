{
  "nbformat": 4,
  "nbformat_minor": 0,
  "metadata": {
    "colab": {
      "provenance": [],
      "authorship_tag": "ABX9TyOfqEUX9zrSXfisQTQ+uhUt",
      "include_colab_link": true
    },
    "kernelspec": {
      "name": "python3",
      "display_name": "Python 3"
    },
    "language_info": {
      "name": "python"
    }
  },
  "cells": [
    {
      "cell_type": "markdown",
      "metadata": {
        "id": "view-in-github",
        "colab_type": "text"
      },
      "source": [
        "<a href=\"https://colab.research.google.com/github/Rachmatsyaifudin/0046-RF/blob/master/Artificial_Neural_Network_in_TensorFlow.ipynb\" target=\"_parent\"><img src=\"https://colab.research.google.com/assets/colab-badge.svg\" alt=\"Open In Colab\"/></a>"
      ]
    },
    {
      "cell_type": "code",
      "source": [
        "import pandas as pd\n",
        "import numpy as np\n",
        "import os\n",
        "\n",
        "# Plotting libraries\n",
        "import matplotlib.pyplot as plt\n",
        "\n",
        "\n",
        "# SKLearn libraries\n",
        "from sklearn.preprocessing import LabelEncoder\n",
        "from sklearn.model_selection import train_test_split\n",
        "\n",
        "# Tensorflow libraries\n",
        "import tensorflow as tf\n",
        "from tensorflow import keras\n",
        "from tensorflow.keras.models import Sequential"
      ],
      "metadata": {
        "id": "bOmQLmDFkEkB"
      },
      "execution_count": null,
      "outputs": []
    },
    {
      "cell_type": "code",
      "execution_count": null,
      "metadata": {
        "id": "utRVTfSDjxti"
      },
      "outputs": [],
      "source": [
        "# Data file path\n",
        "FILE_PATH = 'iris.csv'\n",
        "\n",
        "# Dataframe from csv file\n",
        "iris_data = pd.read_csv(FILE_PATH, header=0)"
      ]
    },
    {
      "cell_type": "code",
      "source": [
        "iris_data.info()\n",
        "print(\"==\"*40)\n",
        "iris_data.head(10)"
      ],
      "metadata": {
        "colab": {
          "base_uri": "https://localhost:8080/",
          "height": 588
        },
        "id": "mdRorFbZkuci",
        "outputId": "d322505a-9885-462f-8d6c-75a3e636fc2c"
      },
      "execution_count": null,
      "outputs": [
        {
          "output_type": "stream",
          "name": "stdout",
          "text": [
            "<class 'pandas.core.frame.DataFrame'>\n",
            "RangeIndex: 150 entries, 0 to 149\n",
            "Data columns (total 5 columns):\n",
            " #   Column        Non-Null Count  Dtype  \n",
            "---  ------        --------------  -----  \n",
            " 0   sepal_length  150 non-null    float64\n",
            " 1   sepal_width   150 non-null    float64\n",
            " 2   petal_length  150 non-null    float64\n",
            " 3   petal_width   150 non-null    float64\n",
            " 4   species       150 non-null    object \n",
            "dtypes: float64(4), object(1)\n",
            "memory usage: 6.0+ KB\n",
            "================================================================================\n"
          ]
        },
        {
          "output_type": "execute_result",
          "data": {
            "text/plain": [
              "   sepal_length  sepal_width  petal_length  petal_width      species\n",
              "0           5.1          3.5           1.4          0.2  Iris-setosa\n",
              "1           4.9          3.0           1.4          0.2  Iris-setosa\n",
              "2           4.7          3.2           1.3          0.2  Iris-setosa\n",
              "3           4.6          3.1           1.5          0.2  Iris-setosa\n",
              "4           5.0          3.6           1.4          0.2  Iris-setosa\n",
              "5           5.4          3.9           1.7          0.4  Iris-setosa\n",
              "6           4.6          3.4           1.4          0.3  Iris-setosa\n",
              "7           5.0          3.4           1.5          0.2  Iris-setosa\n",
              "8           4.4          2.9           1.4          0.2  Iris-setosa\n",
              "9           4.9          3.1           1.5          0.1  Iris-setosa"
            ],
            "text/html": [
              "\n",
              "  <div id=\"df-c9450d45-8cb8-4c7e-8fbc-8eaaf5e4cd15\">\n",
              "    <div class=\"colab-df-container\">\n",
              "      <div>\n",
              "<style scoped>\n",
              "    .dataframe tbody tr th:only-of-type {\n",
              "        vertical-align: middle;\n",
              "    }\n",
              "\n",
              "    .dataframe tbody tr th {\n",
              "        vertical-align: top;\n",
              "    }\n",
              "\n",
              "    .dataframe thead th {\n",
              "        text-align: right;\n",
              "    }\n",
              "</style>\n",
              "<table border=\"1\" class=\"dataframe\">\n",
              "  <thead>\n",
              "    <tr style=\"text-align: right;\">\n",
              "      <th></th>\n",
              "      <th>sepal_length</th>\n",
              "      <th>sepal_width</th>\n",
              "      <th>petal_length</th>\n",
              "      <th>petal_width</th>\n",
              "      <th>species</th>\n",
              "    </tr>\n",
              "  </thead>\n",
              "  <tbody>\n",
              "    <tr>\n",
              "      <th>0</th>\n",
              "      <td>5.1</td>\n",
              "      <td>3.5</td>\n",
              "      <td>1.4</td>\n",
              "      <td>0.2</td>\n",
              "      <td>Iris-setosa</td>\n",
              "    </tr>\n",
              "    <tr>\n",
              "      <th>1</th>\n",
              "      <td>4.9</td>\n",
              "      <td>3.0</td>\n",
              "      <td>1.4</td>\n",
              "      <td>0.2</td>\n",
              "      <td>Iris-setosa</td>\n",
              "    </tr>\n",
              "    <tr>\n",
              "      <th>2</th>\n",
              "      <td>4.7</td>\n",
              "      <td>3.2</td>\n",
              "      <td>1.3</td>\n",
              "      <td>0.2</td>\n",
              "      <td>Iris-setosa</td>\n",
              "    </tr>\n",
              "    <tr>\n",
              "      <th>3</th>\n",
              "      <td>4.6</td>\n",
              "      <td>3.1</td>\n",
              "      <td>1.5</td>\n",
              "      <td>0.2</td>\n",
              "      <td>Iris-setosa</td>\n",
              "    </tr>\n",
              "    <tr>\n",
              "      <th>4</th>\n",
              "      <td>5.0</td>\n",
              "      <td>3.6</td>\n",
              "      <td>1.4</td>\n",
              "      <td>0.2</td>\n",
              "      <td>Iris-setosa</td>\n",
              "    </tr>\n",
              "    <tr>\n",
              "      <th>5</th>\n",
              "      <td>5.4</td>\n",
              "      <td>3.9</td>\n",
              "      <td>1.7</td>\n",
              "      <td>0.4</td>\n",
              "      <td>Iris-setosa</td>\n",
              "    </tr>\n",
              "    <tr>\n",
              "      <th>6</th>\n",
              "      <td>4.6</td>\n",
              "      <td>3.4</td>\n",
              "      <td>1.4</td>\n",
              "      <td>0.3</td>\n",
              "      <td>Iris-setosa</td>\n",
              "    </tr>\n",
              "    <tr>\n",
              "      <th>7</th>\n",
              "      <td>5.0</td>\n",
              "      <td>3.4</td>\n",
              "      <td>1.5</td>\n",
              "      <td>0.2</td>\n",
              "      <td>Iris-setosa</td>\n",
              "    </tr>\n",
              "    <tr>\n",
              "      <th>8</th>\n",
              "      <td>4.4</td>\n",
              "      <td>2.9</td>\n",
              "      <td>1.4</td>\n",
              "      <td>0.2</td>\n",
              "      <td>Iris-setosa</td>\n",
              "    </tr>\n",
              "    <tr>\n",
              "      <th>9</th>\n",
              "      <td>4.9</td>\n",
              "      <td>3.1</td>\n",
              "      <td>1.5</td>\n",
              "      <td>0.1</td>\n",
              "      <td>Iris-setosa</td>\n",
              "    </tr>\n",
              "  </tbody>\n",
              "</table>\n",
              "</div>\n",
              "      <button class=\"colab-df-convert\" onclick=\"convertToInteractive('df-c9450d45-8cb8-4c7e-8fbc-8eaaf5e4cd15')\"\n",
              "              title=\"Convert this dataframe to an interactive table.\"\n",
              "              style=\"display:none;\">\n",
              "        \n",
              "  <svg xmlns=\"http://www.w3.org/2000/svg\" height=\"24px\"viewBox=\"0 0 24 24\"\n",
              "       width=\"24px\">\n",
              "    <path d=\"M0 0h24v24H0V0z\" fill=\"none\"/>\n",
              "    <path d=\"M18.56 5.44l.94 2.06.94-2.06 2.06-.94-2.06-.94-.94-2.06-.94 2.06-2.06.94zm-11 1L8.5 8.5l.94-2.06 2.06-.94-2.06-.94L8.5 2.5l-.94 2.06-2.06.94zm10 10l.94 2.06.94-2.06 2.06-.94-2.06-.94-.94-2.06-.94 2.06-2.06.94z\"/><path d=\"M17.41 7.96l-1.37-1.37c-.4-.4-.92-.59-1.43-.59-.52 0-1.04.2-1.43.59L10.3 9.45l-7.72 7.72c-.78.78-.78 2.05 0 2.83L4 21.41c.39.39.9.59 1.41.59.51 0 1.02-.2 1.41-.59l7.78-7.78 2.81-2.81c.8-.78.8-2.07 0-2.86zM5.41 20L4 18.59l7.72-7.72 1.47 1.35L5.41 20z\"/>\n",
              "  </svg>\n",
              "      </button>\n",
              "      \n",
              "  <style>\n",
              "    .colab-df-container {\n",
              "      display:flex;\n",
              "      flex-wrap:wrap;\n",
              "      gap: 12px;\n",
              "    }\n",
              "\n",
              "    .colab-df-convert {\n",
              "      background-color: #E8F0FE;\n",
              "      border: none;\n",
              "      border-radius: 50%;\n",
              "      cursor: pointer;\n",
              "      display: none;\n",
              "      fill: #1967D2;\n",
              "      height: 32px;\n",
              "      padding: 0 0 0 0;\n",
              "      width: 32px;\n",
              "    }\n",
              "\n",
              "    .colab-df-convert:hover {\n",
              "      background-color: #E2EBFA;\n",
              "      box-shadow: 0px 1px 2px rgba(60, 64, 67, 0.3), 0px 1px 3px 1px rgba(60, 64, 67, 0.15);\n",
              "      fill: #174EA6;\n",
              "    }\n",
              "\n",
              "    [theme=dark] .colab-df-convert {\n",
              "      background-color: #3B4455;\n",
              "      fill: #D2E3FC;\n",
              "    }\n",
              "\n",
              "    [theme=dark] .colab-df-convert:hover {\n",
              "      background-color: #434B5C;\n",
              "      box-shadow: 0px 1px 3px 1px rgba(0, 0, 0, 0.15);\n",
              "      filter: drop-shadow(0px 1px 2px rgba(0, 0, 0, 0.3));\n",
              "      fill: #FFFFFF;\n",
              "    }\n",
              "  </style>\n",
              "\n",
              "      <script>\n",
              "        const buttonEl =\n",
              "          document.querySelector('#df-c9450d45-8cb8-4c7e-8fbc-8eaaf5e4cd15 button.colab-df-convert');\n",
              "        buttonEl.style.display =\n",
              "          google.colab.kernel.accessAllowed ? 'block' : 'none';\n",
              "\n",
              "        async function convertToInteractive(key) {\n",
              "          const element = document.querySelector('#df-c9450d45-8cb8-4c7e-8fbc-8eaaf5e4cd15');\n",
              "          const dataTable =\n",
              "            await google.colab.kernel.invokeFunction('convertToInteractive',\n",
              "                                                     [key], {});\n",
              "          if (!dataTable) return;\n",
              "\n",
              "          const docLinkHtml = 'Like what you see? Visit the ' +\n",
              "            '<a target=\"_blank\" href=https://colab.research.google.com/notebooks/data_table.ipynb>data table notebook</a>'\n",
              "            + ' to learn more about interactive tables.';\n",
              "          element.innerHTML = '';\n",
              "          dataTable['output_type'] = 'display_data';\n",
              "          await google.colab.output.renderOutput(dataTable, element);\n",
              "          const docLink = document.createElement('div');\n",
              "          docLink.innerHTML = docLinkHtml;\n",
              "          element.appendChild(docLink);\n",
              "        }\n",
              "      </script>\n",
              "    </div>\n",
              "  </div>\n",
              "  "
            ]
          },
          "metadata": {},
          "execution_count": 14
        }
      ]
    },
    {
      "cell_type": "code",
      "source": [
        "X = iris_data.loc[:, iris_data.columns != 'species']\n",
        "y = iris_data.loc[:, ['species']]"
      ],
      "metadata": {
        "id": "X5tNtTMolJeQ"
      },
      "execution_count": null,
      "outputs": []
    },
    {
      "cell_type": "code",
      "source": [
        "y_enc = LabelEncoder().fit_transform(y)\n",
        "# Converting the label into a matrix form\n",
        "y_label = tf.keras.utils.to_categorical(y_enc)"
      ],
      "metadata": {
        "colab": {
          "base_uri": "https://localhost:8080/"
        },
        "id": "vccq7cawmZPX",
        "outputId": "a5b58337-b28a-4639-b76a-144ad344a18b"
      },
      "execution_count": null,
      "outputs": [
        {
          "output_type": "stream",
          "name": "stderr",
          "text": [
            "/usr/local/lib/python3.10/dist-packages/sklearn/preprocessing/_label.py:116: DataConversionWarning: A column-vector y was passed when a 1d array was expected. Please change the shape of y to (n_samples, ), for example using ravel().\n",
            "  y = column_or_1d(y, warn=True)\n"
          ]
        }
      ]
    },
    {
      "cell_type": "code",
      "source": [
        "# X_train_full, X_test, y_train_full, y_test = train_test_split(X, y_label, test_size=0.15)\n",
        "# Validation set\n",
        "# X_train, X_valid, y_train, y_valid = train_test_split(X_train_full, y_train_full)\n",
        "\n",
        "X_train, X_test, y_train, y_test = train_test_split(X, y_label, test_size=0.3)\n"
      ],
      "metadata": {
        "id": "MX_NCIAUmcTc"
      },
      "execution_count": null,
      "outputs": []
    },
    {
      "cell_type": "code",
      "source": [
        "print(f\"Train shape : {X_train.shape}, Y Train : {y_train.shape}\")\n",
        "print(X_train.shape[1:])"
      ],
      "metadata": {
        "colab": {
          "base_uri": "https://localhost:8080/"
        },
        "id": "dfKr3vMdmhBJ",
        "outputId": "d93b3ad5-10bc-47ea-ee20-8dc586a1b026"
      },
      "execution_count": null,
      "outputs": [
        {
          "output_type": "stream",
          "name": "stdout",
          "text": [
            "Train shape : (105, 4), Y Train : (105, 3)\n",
            "(4,)\n"
          ]
        }
      ]
    },
    {
      "cell_type": "code",
      "source": [
        "def get_model():\n",
        "    model = Sequential([\n",
        "        keras.layers.Input(shape=X_train.shape[1:]),\n",
        "        keras.layers.Dense(1000, activation='relu'),\n",
        "        keras.layers.Dense(500, activation='relu',),\n",
        "        keras.layers.Dense(300, activation='relu'),\n",
        "        keras.layers.Dropout(0.2),\n",
        "        keras.layers.Dense(3, activation='softmax')\n",
        "    ])\n",
        "\n",
        "    return model"
      ],
      "metadata": {
        "id": "Lu9ew_Lvmmng"
      },
      "execution_count": null,
      "outputs": []
    },
    {
      "cell_type": "code",
      "source": [
        "model = get_model()\n",
        "\n",
        "# Compile the model\n",
        "model.compile(optimizer='adam',\n",
        "              loss=keras.losses.CategoricalCrossentropy(),\n",
        "             metrics=['accuracy'])"
      ],
      "metadata": {
        "id": "U9YVW4uCmqKW"
      },
      "execution_count": null,
      "outputs": []
    },
    {
      "cell_type": "code",
      "source": [
        "history = model.fit(X_train, y_train, epochs=30, validation_data=(X_test, y_test), verbose=1)"
      ],
      "metadata": {
        "colab": {
          "base_uri": "https://localhost:8080/"
        },
        "id": "JGX3cFTom1nU",
        "outputId": "14df19ba-f084-4827-bd1e-0d9aae48a0e4"
      },
      "execution_count": null,
      "outputs": [
        {
          "output_type": "stream",
          "name": "stdout",
          "text": [
            "Epoch 1/30\n",
            "4/4 [==============================] - 2s 88ms/step - loss: 0.9592 - accuracy: 0.4190 - val_loss: 0.5884 - val_accuracy: 0.8000\n",
            "Epoch 2/30\n",
            "4/4 [==============================] - 0s 27ms/step - loss: 0.7390 - accuracy: 0.6857 - val_loss: 0.4172 - val_accuracy: 0.9556\n",
            "Epoch 3/30\n",
            "4/4 [==============================] - 0s 25ms/step - loss: 0.5148 - accuracy: 0.7714 - val_loss: 0.2983 - val_accuracy: 0.9778\n",
            "Epoch 4/30\n",
            "4/4 [==============================] - 0s 24ms/step - loss: 0.3753 - accuracy: 0.8667 - val_loss: 0.1988 - val_accuracy: 0.9333\n",
            "Epoch 5/30\n",
            "4/4 [==============================] - 0s 20ms/step - loss: 0.3728 - accuracy: 0.7905 - val_loss: 0.3018 - val_accuracy: 0.8667\n",
            "Epoch 6/30\n",
            "4/4 [==============================] - 0s 18ms/step - loss: 0.3174 - accuracy: 0.8762 - val_loss: 0.1513 - val_accuracy: 0.9333\n",
            "Epoch 7/30\n",
            "4/4 [==============================] - 0s 19ms/step - loss: 0.3197 - accuracy: 0.8476 - val_loss: 0.1618 - val_accuracy: 0.9333\n",
            "Epoch 8/30\n",
            "4/4 [==============================] - 0s 20ms/step - loss: 0.2447 - accuracy: 0.8952 - val_loss: 0.1439 - val_accuracy: 0.9333\n",
            "Epoch 9/30\n",
            "4/4 [==============================] - 0s 18ms/step - loss: 0.1876 - accuracy: 0.9143 - val_loss: 0.0904 - val_accuracy: 0.9778\n",
            "Epoch 10/30\n",
            "4/4 [==============================] - 0s 23ms/step - loss: 0.1774 - accuracy: 0.9524 - val_loss: 0.1620 - val_accuracy: 0.9333\n",
            "Epoch 11/30\n",
            "4/4 [==============================] - 0s 19ms/step - loss: 0.1481 - accuracy: 0.9333 - val_loss: 0.0745 - val_accuracy: 0.9778\n",
            "Epoch 12/30\n",
            "4/4 [==============================] - 0s 21ms/step - loss: 0.1201 - accuracy: 0.9810 - val_loss: 0.1970 - val_accuracy: 0.9111\n",
            "Epoch 13/30\n",
            "4/4 [==============================] - 0s 19ms/step - loss: 0.1575 - accuracy: 0.9238 - val_loss: 0.0699 - val_accuracy: 0.9778\n",
            "Epoch 14/30\n",
            "4/4 [==============================] - 0s 22ms/step - loss: 0.1726 - accuracy: 0.9333 - val_loss: 0.0636 - val_accuracy: 1.0000\n",
            "Epoch 15/30\n",
            "4/4 [==============================] - 0s 23ms/step - loss: 0.1342 - accuracy: 0.9333 - val_loss: 0.0768 - val_accuracy: 0.9778\n",
            "Epoch 16/30\n",
            "4/4 [==============================] - 0s 24ms/step - loss: 0.1118 - accuracy: 0.9524 - val_loss: 0.0505 - val_accuracy: 1.0000\n",
            "Epoch 17/30\n",
            "4/4 [==============================] - 0s 18ms/step - loss: 0.1077 - accuracy: 0.9714 - val_loss: 0.1081 - val_accuracy: 0.9333\n",
            "Epoch 18/30\n",
            "4/4 [==============================] - 0s 21ms/step - loss: 0.1156 - accuracy: 0.9333 - val_loss: 0.0415 - val_accuracy: 1.0000\n",
            "Epoch 19/30\n",
            "4/4 [==============================] - 0s 18ms/step - loss: 0.1144 - accuracy: 0.9619 - val_loss: 0.0564 - val_accuracy: 1.0000\n",
            "Epoch 20/30\n",
            "4/4 [==============================] - 0s 18ms/step - loss: 0.0899 - accuracy: 0.9619 - val_loss: 0.0475 - val_accuracy: 1.0000\n",
            "Epoch 21/30\n",
            "4/4 [==============================] - 0s 18ms/step - loss: 0.1122 - accuracy: 0.9524 - val_loss: 0.0416 - val_accuracy: 1.0000\n",
            "Epoch 22/30\n",
            "4/4 [==============================] - 0s 21ms/step - loss: 0.1135 - accuracy: 0.9429 - val_loss: 0.0472 - val_accuracy: 1.0000\n",
            "Epoch 23/30\n",
            "4/4 [==============================] - 0s 21ms/step - loss: 0.0992 - accuracy: 0.9524 - val_loss: 0.0486 - val_accuracy: 1.0000\n",
            "Epoch 24/30\n",
            "4/4 [==============================] - 0s 20ms/step - loss: 0.1216 - accuracy: 0.9524 - val_loss: 0.0390 - val_accuracy: 1.0000\n",
            "Epoch 25/30\n",
            "4/4 [==============================] - 0s 21ms/step - loss: 0.1037 - accuracy: 0.9524 - val_loss: 0.0598 - val_accuracy: 0.9778\n",
            "Epoch 26/30\n",
            "4/4 [==============================] - 0s 27ms/step - loss: 0.1265 - accuracy: 0.9429 - val_loss: 0.0517 - val_accuracy: 0.9778\n",
            "Epoch 27/30\n",
            "4/4 [==============================] - 0s 22ms/step - loss: 0.0929 - accuracy: 0.9714 - val_loss: 0.0390 - val_accuracy: 1.0000\n",
            "Epoch 28/30\n",
            "4/4 [==============================] - 0s 21ms/step - loss: 0.0898 - accuracy: 0.9810 - val_loss: 0.0310 - val_accuracy: 1.0000\n",
            "Epoch 29/30\n",
            "4/4 [==============================] - 0s 19ms/step - loss: 0.1188 - accuracy: 0.9524 - val_loss: 0.0516 - val_accuracy: 0.9778\n",
            "Epoch 30/30\n",
            "4/4 [==============================] - 0s 22ms/step - loss: 0.0884 - accuracy: 0.9524 - val_loss: 0.0316 - val_accuracy: 1.0000\n"
          ]
        }
      ]
    },
    {
      "cell_type": "code",
      "source": [
        "model.evaluate(X_test, y_test)"
      ],
      "metadata": {
        "colab": {
          "base_uri": "https://localhost:8080/"
        },
        "id": "3hKz7YcYm6-c",
        "outputId": "a0e79a14-62eb-4999-ef90-89d041641e76"
      },
      "execution_count": null,
      "outputs": [
        {
          "output_type": "stream",
          "name": "stdout",
          "text": [
            "2/2 [==============================] - 0s 7ms/step - loss: 0.0316 - accuracy: 1.0000\n"
          ]
        },
        {
          "output_type": "execute_result",
          "data": {
            "text/plain": [
              "[0.031647127121686935, 1.0]"
            ]
          },
          "metadata": {},
          "execution_count": 24
        }
      ]
    },
    {
      "cell_type": "code",
      "source": [
        "pd.DataFrame(history.history).plot(figsize=(10,6))\n",
        "plt.grid(True)\n",
        "plt.gca().set_ylim(0, 1)\n",
        "plt.show()"
      ],
      "metadata": {
        "colab": {
          "base_uri": "https://localhost:8080/",
          "height": 528
        },
        "id": "wBbj0YStm90U",
        "outputId": "7f500b84-3275-489c-e992-ed2bff483cda"
      },
      "execution_count": null,
      "outputs": [
        {
          "output_type": "display_data",
          "data": {
            "text/plain": [
              "<Figure size 1000x600 with 1 Axes>"
            ],
            "image/png": "[encoded data removed]"
          },
          "metadata": {}
        }
      ]
    },
    {
      "cell_type": "code",
      "source": [
        "new_data, y_actual = X_test[:3], y_test[:3]\n",
        "\n",
        "y_proba = model.predict(new_data)\n",
        "\n",
        "print(f\"Actual data : {y_actual}\")\n",
        "\n",
        "for pred in y_proba:\n",
        "    print(np.argmax(pred))"
      ],
      "metadata": {
        "colab": {
          "base_uri": "https://localhost:8080/"
        },
        "id": "-Uq_2VZynBtx",
        "outputId": "b7da6234-c730-4fc5-baf9-409c5a9fc4b6"
      },
      "execution_count": null,
      "outputs": [
        {
          "output_type": "stream",
          "name": "stdout",
          "text": [
            "1/1 [==============================] - 0s 139ms/step\n",
            "Actual data : [[0. 1. 0.]\n",
            " [1. 0. 0.]\n",
            " [0. 0. 1.]]\n",
            "1\n",
            "0\n",
            "2\n"
          ]
        }
      ]
    },
    {
      "cell_type": "code",
      "source": [],
      "metadata": {
        "id": "k-oHwV_InFPB"
      },
      "execution_count": null,
      "outputs": []
    }
  ]
}